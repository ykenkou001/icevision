{
  "cells": [
    {
      "cell_type": "markdown",
      "metadata": {
        "id": "view-in-github",
        "colab_type": "text"
      },
      "source": [
        "<a href=\"https://colab.research.google.com/github/ykenkou001/icevision_memo/blob/main/train_pillar_detection.ipynb\" target=\"_parent\"><img src=\"https://colab.research.google.com/assets/colab-badge.svg\" alt=\"Open In Colab\"/></a>"
      ]
    },
    {
      "cell_type": "code",
      "execution_count": null,
      "metadata": {
        "id": "lbWiohOH8-VF"
      },
      "outputs": [],
      "source": [
        "# Check GPU\n",
        "!nvidia-smi"
      ]
    },
    {
      "cell_type": "code",
      "execution_count": null,
      "metadata": {
        "id": "P3Jy6N-D_PzE"
      },
      "outputs": [],
      "source": [
        "# # Torch - Torchvision - IceVision - IceData - MMDetection - YOLOv5 - EfficientDet Installation\n",
        "# !wget https://raw.githubusercontent.com/airctic/icevision/master/icevision_install.sh\n",
        "\n",
        "# # Choose your installation target: cuda11 or cuda10 or cpu\n",
        "# !bash icevision_install.sh cuda11"
      ]
    },
    {
      "cell_type": "code",
      "execution_count": null,
      "metadata": {
        "id": "uFYQsPgGgs0-"
      },
      "outputs": [],
      "source": [
        "# Torch - Torchvision - IceVision - IceData - MMDetection - YOLOv5 - EfficientDet Installation\n",
        "!wget https://raw.githubusercontent.com/airctic/icevision/master/icevision_install.sh\n",
        "\n",
        "# Choose your installation target: cuda11 or cuda10 or cpu\n",
        "!bash icevision_install.sh cuda11 master"
      ]
    },
    {
      "cell_type": "code",
      "execution_count": null,
      "metadata": {
        "id": "M1cVKQrpgr5i"
      },
      "outputs": [],
      "source": [
        "# Restart kernel after installation、このカーネルを実行すると後々エラーが出る\n",
        "import IPython\n",
        "RESTART_KERNEL = False\n",
        "if RESTART_KERNEL:\n",
        "  IPython.Application.instance().kernel.do_shutdown(True)"
      ]
    },
    {
      "cell_type": "code",
      "execution_count": null,
      "metadata": {
        "id": "80ibzqlX9KcS"
      },
      "outputs": [],
      "source": [
        "# fiftyoneをソースからリインストール\n",
        "INSTALL_51 = False\n",
        "if INSTALL_51:\n",
        "  import shutil\n",
        "  shutil.copy('/content/drive/MyDrive/Colab Notebooks/ice_vision/reinstall_51.sh',\n",
        "              '/content/')\n",
        "  !sh reinstall_51.sh"
      ]
    },
    {
      "cell_type": "code",
      "execution_count": null,
      "metadata": {
        "id": "EK2kWMZw6iMC"
      },
      "outputs": [],
      "source": [
        "from google.colab import drive\n",
        "drive.mount('/content/drive')"
      ]
    },
    {
      "cell_type": "markdown",
      "metadata": {
        "id": "QrQrHY8G_jC-"
      },
      "source": [
        "# Imports"
      ]
    },
    {
      "cell_type": "code",
      "execution_count": null,
      "metadata": {
        "id": "Z4CXKH6rAUH_"
      },
      "outputs": [],
      "source": [
        "from icevision.all import *"
      ]
    },
    {
      "cell_type": "code",
      "execution_count": null,
      "metadata": {
        "id": "W-6LiCVb_cW3"
      },
      "outputs": [],
      "source": [
        "import numpy as np\n",
        "from pathlib import Path"
      ]
    },
    {
      "cell_type": "markdown",
      "metadata": {
        "id": "BaYj5UeX_t_-"
      },
      "source": [
        "# Parse  pillar detectiondataset"
      ]
    },
    {
      "cell_type": "code",
      "execution_count": null,
      "metadata": {
        "id": "-P1uAOhwh1Z1"
      },
      "outputs": [],
      "source": [
        "# 保存した train_records, valid_recordsを読み込む\n",
        "import pickle\n",
        "\n",
        "with open('/content/drive/MyDrive/Colab Notebooks/ice_vision/train/records.pickle', 'rb') as f:\n",
        "    train_records, valid_records = pickle.load(f)\n"
      ]
    },
    {
      "cell_type": "code",
      "execution_count": null,
      "metadata": {
        "id": "iBRIAoCpAB_k"
      },
      "outputs": [],
      "source": [
        "# define the parameters and create the parser\n",
        "annotation_filepath = '/content/drive/MyDrive/Colab Notebooks/ice_vision/train/result_annotation.json'\n",
        "img_dir = '/content/drive/MyDrive/Colab Notebooks/ice_vision/train/images'\n",
        "\n",
        "parser = parsers.COCOBBoxParser(annotations_filepath=annotation_filepath, img_dir=img_dir)"
      ]
    },
    {
      "cell_type": "code",
      "execution_count": null,
      "metadata": {
        "id": "Zlio3dHPIfXD"
      },
      "outputs": [],
      "source": [
        "# Parse annotations to create records\n",
        "# recordsの内容をpickleで保存する場合, cache_filepath='save_path'\n",
        "# reference -> https://github.com/airctic/icevision/blob/9c17564b82b2c17367ee2eb02fd24dbf8bf6376c/icevision/parsers/parser.py#L94\n",
        "\n",
        "CREATE_RECORDS = False\n",
        "if CREATE_RECORDS:\n",
        "  train_records, valid_records = parser.parse(cache_filepath='/content/drive/MyDrive/Colab Notebooks/ice_vision/train/records.pickle')\n",
        "parser.class_map"
      ]
    },
    {
      "cell_type": "code",
      "execution_count": null,
      "metadata": {
        "id": "_anni6adNWmS"
      },
      "outputs": [],
      "source": [
        "train_records[3]"
      ]
    },
    {
      "cell_type": "markdown",
      "metadata": {
        "id": "--DqSpfWQHjD"
      },
      "source": [
        "# Create datasets with augumentations and transforms"
      ]
    },
    {
      "cell_type": "code",
      "execution_count": null,
      "metadata": {
        "id": "I34pg_iIRmSy"
      },
      "outputs": [],
      "source": [
        "# Transforms\n",
        "# size is set to 384 because EfficientDet requires its inputs to be divisible by 128\n",
        "image_size = 384\n",
        "train_tfms = tfms.A.Adapter(\n",
        "    [*tfms.A.aug_tfms(size=image_size, presize=384), tfms.A.Normalize()]) # presize: データ拡張サイズ\n",
        "valid_tfms = tfms.A.Adapter([*tfms.A.resize_and_pad(image_size), tfms.A.Normalize()])"
      ]
    },
    {
      "cell_type": "code",
      "execution_count": null,
      "metadata": {
        "id": "uHZTYMkOSNk5"
      },
      "outputs": [],
      "source": [
        "# Datasets\n",
        "train_ds = Dataset(train_records, train_tfms)\n",
        "valid_ds = Dataset(valid_records, valid_tfms)"
      ]
    },
    {
      "cell_type": "code",
      "execution_count": null,
      "metadata": {
        "id": "aNX1-3IiSZJQ",
        "collapsed": true
      },
      "outputs": [],
      "source": [
        "# Show an element of the train_ds with augmentation transformations applied\n",
        "samples = [train_ds[0] for _ in range(3)]\n",
        "show_samples(samples, ncols=3)"
      ]
    },
    {
      "cell_type": "markdown",
      "metadata": {
        "id": "ePvVKHCWSmeC"
      },
      "source": [
        "# Creating a model"
      ]
    },
    {
      "cell_type": "markdown",
      "metadata": {
        "id": "J2sRKRdtSu3m"
      },
      "source": [
        "## Select a library, model, and backbone\n",
        "\n",
        "In order to create a model, we need to:\n",
        "* Choose one of the **libraries** supported by IceVision\n",
        "* Choose one of the **models** supported by the library\n",
        "* Choose one of the **backbones** corresponding to a chosen model\n",
        "\n",
        "You can access any supported models by following the IceVision unified API, use code completion to explore the available models for each library.\n",
        "\n"
      ]
    },
    {
      "cell_type": "code",
      "execution_count": null,
      "metadata": {
        "id": "O0HVc-2xlH8L"
      },
      "outputs": [],
      "source": [
        "import icevision\n",
        "icevision.__version__"
      ]
    },
    {
      "cell_type": "code",
      "execution_count": null,
      "metadata": {
        "id": "Nkzj8mkWS1l1"
      },
      "outputs": [],
      "source": [
        "# Just change the value of selection to try another model\n",
        "\n",
        "selection = 13\n",
        "\n",
        "extra_args = {}\n",
        "\n",
        "if selection == 0:\n",
        "  model_type = models.mmdet.vfnet\n",
        "  backbone = model_type.backbones.resnet50_fpn_mstrain_2x\n",
        "\n",
        "if selection == 1:\n",
        "  model_type = models.mmdet.retinanet\n",
        "  backbone = model_type.backbones.resnet101_fpn_2x\n",
        "  # backbone = model_type.backbones.resnet50_fpn_1x\n",
        "\n",
        "  # extra_args['cfg_options'] = { \n",
        "  #   'model.bbox_head.loss_bbox.loss_weight': 2,\n",
        "  #   'model.bbox_head.loss_cls.loss_weight': 0.8,\n",
        "  #    }\n",
        "\n",
        "if selection == 2:\n",
        "  model_type = models.mmdet.faster_rcnn\n",
        "  backbone = model_type.backbones.resnet101_fpn_2x\n",
        "  # extra_args['cfg_options'] = { \n",
        "  #   'model.roi_head.bbox_head.loss_bbox.loss_weight': 2,\n",
        "  #   'model.roi_head.bbox_head.loss_cls.loss_weight': 0.8,\n",
        "  #    }\n",
        "\n",
        "if selection == 3:\n",
        "  model_type = models.mmdet.ssd\n",
        "  backbone = model_type.backbones.ssd300\n",
        "\n",
        "if selection == 4:\n",
        "  model_type = models.mmdet.yolox\n",
        "  backbone = model_type.backbones.yolox_s_8x8\n",
        "\n",
        "if selection == 5:\n",
        "  model_type = models.mmdet.yolof\n",
        "  backbone = model_type.backbones.yolof_r50_c5_8x8_1x_coco\n",
        "\n",
        "if selection == 6:\n",
        "  # mmdet/models/dense_heads/detr_head.py: fix 526lines\n",
        "  # labels[pos_inds] = gt_labels[sampling_result.pos_assigned_gt_inds].to(torch.int64)\n",
        "  model_type = models.mmdet.detr\n",
        "  backbone = model_type.backbones.r50_8x2_150e_coco\n",
        "\n",
        "if selection == 7:\n",
        "  model_type = models.mmdet.deformable_detr\n",
        "  backbone = model_type.backbones.twostage_refine_r50_16x2_50e_coco\n",
        "\n",
        "if selection == 8:\n",
        "  model_type = models.mmdet.fsaf\n",
        "  backbone = model_type.backbones.x101_64x4d_fpn_1x_coco\n",
        "\n",
        "if selection == 9:\n",
        "  model_type = models.mmdet.sabl\n",
        "  backbone = model_type.backbones.r101_fpn_gn_2x_ms_640_800_coco\n",
        "\n",
        "if selection == 10:\n",
        "  model_type = models.mmdet.centripetalnet\n",
        "  backbone = model_type.backbones.hourglass104_mstest_16x6_210e_coco\n",
        "\n",
        "elif selection == 11:\n",
        "  # The Retinanet model is also implemented in the torchvision library\n",
        "  model_type = models.torchvision.retinanet\n",
        "  backbone = model_type.backbones.resnet50_fpn\n",
        "\n",
        "elif selection == 12:\n",
        "  model_type = models.ross.efficientdet\n",
        "  backbone = model_type.backbones.tf_d4\n",
        "  # The efficientdet model requires an img_size parameter\n",
        "  extra_args['img_size'] = image_size\n",
        "\n",
        "elif selection == 13:\n",
        "  model_type = models.ultralytics.yolov5\n",
        "  backbone = model_type.backbones.medium\n",
        "  # The yolov5 model requires an img_size parameter\n",
        "  extra_args['img_size'] = image_size\n",
        "\n",
        "model_type, backbone, extra_args"
      ]
    },
    {
      "cell_type": "code",
      "execution_count": null,
      "metadata": {
        "id": "noKVRxK5UMre"
      },
      "outputs": [],
      "source": [
        "backbone.__dict__"
      ]
    },
    {
      "cell_type": "code",
      "execution_count": null,
      "metadata": {
        "id": "KhqIsWtZVMzb"
      },
      "outputs": [],
      "source": [
        "parser.class_map"
      ]
    },
    {
      "cell_type": "code",
      "execution_count": null,
      "metadata": {
        "id": "wDEPJkpBUPah"
      },
      "outputs": [],
      "source": [
        "# Instantiate the model\n",
        "model = model_type.model(backbone=backbone(pretrained=True), \n",
        "                         num_classes=len(parser.class_map), **extra_args)"
      ]
    },
    {
      "cell_type": "markdown",
      "metadata": {
        "id": "xr4qiVwxVur-"
      },
      "source": [
        "## データローダ. \n",
        "データローダはmodel_typeに固有のものです。データローダの仕事は、データセットからアイテムを取得し、各モデルが必要とする特定のフォーマットでバッチ処理することです。このため、データローダーの作成はデータセットの作成とは別に行われます。  \n",
        "  \n",
        "valid_dlからアイテムの最初のバッチを見てみましょう。valid_tfmsはリサイズ(パディングあり)と正規化されたレコードのみを扱うので、例えば毎回異なる画像が返されるわけではないことを覚えておいてください。これは、トレーニング中に一貫した検証を行うために重要です。"
      ]
    },
    {
      "cell_type": "code",
      "execution_count": null,
      "metadata": {
        "id": "1b8j0qjcV7Fc"
      },
      "outputs": [],
      "source": [
        "# Data Loaders\n",
        "train_dl = model_type.train_dl(train_ds, batch_size=8, num_workers=4, shuffle=True)\n",
        "valid_dl = model_type.valid_dl(valid_ds, batch_size=8, num_workers=4, shuffle=False)"
      ]
    },
    {
      "cell_type": "code",
      "execution_count": null,
      "metadata": {
        "id": "Lg2u4DTUYBnY",
        "collapsed": true
      },
      "outputs": [],
      "source": [
        "# show batch\n",
        "model_type.show_batch(first(valid_dl), ncols=4)"
      ]
    },
    {
      "cell_type": "markdown",
      "metadata": {
        "id": "-JoQ7t_hYDM_"
      },
      "source": [
        "## Metrics"
      ]
    },
    {
      "cell_type": "code",
      "execution_count": null,
      "metadata": {
        "id": "KBzSr7r0YNMB"
      },
      "outputs": [],
      "source": [
        "metrics = [COCOMetric(metric_type=COCOMetricType.bbox)]"
      ]
    },
    {
      "cell_type": "markdown",
      "metadata": {
        "id": "FAjF2dgsYWQ1"
      },
      "source": [
        "## Training "
      ]
    },
    {
      "cell_type": "code",
      "execution_count": null,
      "metadata": {
        "id": "BM5rT3OGIHB1"
      },
      "outputs": [],
      "source": [
        "# Start tensorboard.\n",
        "%load_ext tensorboard\n",
        "%tensorboard --logdir '/content/drive/MyDrive/Colab Notebooks/ice_vision/lightning_logs/'"
      ]
    },
    {
      "cell_type": "code",
      "execution_count": null,
      "metadata": {
        "id": "fuqx0sIgZNyP"
      },
      "outputs": [],
      "source": [
        "class LightModel(model_type.lightning.ModelAdapter):\n",
        "    def configure_optimizers(self):\n",
        "        return Adam(self.parameters(), lr=1e-4)\n",
        "\n",
        "light_model = LightModel(model, metrics=metrics)"
      ]
    },
    {
      "cell_type": "code",
      "execution_count": null,
      "metadata": {
        "id": "YzLCRFtJJjrq"
      },
      "outputs": [],
      "source": [
        "# change directiory\n",
        "import os\n",
        "os.chdir('/content/drive/MyDrive/Colab Notebooks/ice_vision')"
      ]
    },
    {
      "cell_type": "code",
      "execution_count": null,
      "metadata": {
        "id": "PmU59eknOgg8"
      },
      "outputs": [],
      "source": [
        "from pytorch_lightning.callbacks.early_stopping import EarlyStopping\n",
        "from pytorch_lightning.callbacks import ModelCheckpoint\n",
        "from pytorch_lightning.loggers import TensorBoardLogger\n",
        "\n",
        "\n",
        "# model_type = models.ross.efficientdet\n",
        "# backbone = model_type.backbones.tf_d4\n",
        "\n",
        "model_name = 'ross.efficientdet'\n",
        "backbone_name = 'tf_d4'\n",
        "\n",
        "val_loss = ['ultralytics.yolov5']\n",
        "valid_slash_loss = [\"mmdet.faster_rcnn\", \"mmdet.detr\", \"mmdet.retinanet\", \n",
        "                    \"ross.efficientdet\"]\n",
        "\n",
        "if model_name in val_loss:\n",
        "  mnt = \"val_loss\"\n",
        "  aimn = True\n",
        "  filename = f\"{model_name}-{backbone_name}-\" + \"{epoch:02d}-{val_loss:.4f}\"\n",
        "elif model_name in valid_slash_loss:\n",
        "  mnt = \"valid/loss\"\n",
        "  aimn = False\n",
        "  filename=f\"{model_name}-{backbone_name}-\" + \"epoch={epoch:02d}-val_loss={valid/loss:.4f}\"\n",
        "\n",
        "early_stop_callback = EarlyStopping(\n",
        "    monitor=mnt, \n",
        "    min_delta=1e-05,\n",
        "    patience=5,\n",
        "    verbose=True,\n",
        "    mode=\"min\")\n",
        "\n",
        "checkpoint_callback = ModelCheckpoint(\n",
        "    monitor=mnt,\n",
        "    dirpath=\"/content/drive/MyDrive/Colab Notebooks/ice_vision/lightning_logs\",\n",
        "    #　Is useful to set it to ``False`` when metric names contain ``/``as this will result in extra folders.\n",
        "    auto_insert_metric_name=aimn,\n",
        "    filename=filename,\n",
        "    save_top_k=1,\n",
        "    mode=\"min\",\n",
        "    verbose=True\n",
        ")\n",
        "# https://pytorch-lightning.readthedocs.io/en/stable/api/pytorch_lightning.loggers.tensorboard.html\n",
        "logger = TensorBoardLogger(\n",
        "    save_dir = \"/content/drive/MyDrive/Colab Notebooks/ice_vision/lightning_logs\",\n",
        "    name = model_name + '_' + backbone_name,\n",
        "    version = None\n",
        ")"
      ]
    },
    {
      "cell_type": "code",
      "execution_count": null,
      "metadata": {
        "id": "5_-gKKYHZUn2"
      },
      "outputs": [],
      "source": [
        "trainer = pl.Trainer(\n",
        "    # max_epochs=100, gpus=1, callbacks=[checkpoint_callback])\n",
        "    max_epochs=100, gpus=1, callbacks=[early_stop_callback, checkpoint_callback],\n",
        "    logger=logger)\n",
        "trainer.fit(light_model, train_dl, valid_dl)"
      ]
    },
    {
      "cell_type": "code",
      "execution_count": null,
      "metadata": {
        "id": "h3-FTP2ATY09"
      },
      "outputs": [],
      "source": [
        "from icevision.models import *\n",
        "# Save The Model\n",
        "checkpoint_path = f'/content/drive/MyDrive/Colab Notebooks/ice_vision/checkpoints/{model_name}_{backbone_name}.pth'\n",
        "\n",
        "save_icevision_checkpoint(model, \n",
        "                        model_name=model_name, \n",
        "                        backbone_name=backbone_name,\n",
        "                        classes =  parser.class_map.get_classes(), \n",
        "                        img_size=image_size, \n",
        "                        filename=checkpoint_path,\n",
        "                        meta={'icevision_version': '12.0.0'})"
      ]
    },
    {
      "cell_type": "code",
      "execution_count": null,
      "metadata": {
        "id": "hkhQy8o3eGyl"
      },
      "outputs": [],
      "source": [
        "infer_dl = model_type.infer_dl(valid_ds, batch_size=4, shuffle=False)\n",
        "preds = model_type.predict_from_dl(model, infer_dl, keep_images=True)"
      ]
    },
    {
      "cell_type": "code",
      "execution_count": null,
      "metadata": {
        "id": "jfZfy5RReKiK",
        "collapsed": true
      },
      "outputs": [],
      "source": [
        "show_preds(preds=preds[:4])"
      ]
    }
  ],
  "metadata": {
    "accelerator": "GPU",
    "colab": {
      "background_execution": "on",
      "collapsed_sections": [],
      "machine_shape": "hm",
      "name": "train_pillar_detection.ipynb",
      "private_outputs": true,
      "provenance": [],
      "include_colab_link": true
    },
    "interpreter": {
      "hash": "31f2aee4e71d21fbe5cf8b01ff0e069b9275f58929596ceb00d14d90e3e16cd6"
    },
    "kernelspec": {
      "display_name": "Python 3.7.12 64-bit",
      "language": "python",
      "name": "python3"
    },
    "language_info": {
      "codemirror_mode": {
        "name": "ipython",
        "version": 3
      },
      "file_extension": ".py",
      "mimetype": "text/x-python",
      "name": "python",
      "nbconvert_exporter": "python",
      "pygments_lexer": "ipython3",
      "version": "3.7.12"
    }
  },
  "nbformat": 4,
  "nbformat_minor": 0
}